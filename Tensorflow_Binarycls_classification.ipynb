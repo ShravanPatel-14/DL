{
 "cells": [
  {
   "cell_type": "code",
   "execution_count": 1,
   "id": "b9e7c4ca-a83f-417c-9e6f-b8f773c6f8eb",
   "metadata": {},
   "outputs": [],
   "source": [
    "import random\n",
    "import pandas as pd\n",
    "import warnings\n",
    "warnings.filterwarnings(\"ignore\")"
   ]
  },
  {
   "cell_type": "code",
   "execution_count": 2,
   "id": "b74ed9ce-c5d7-4e41-9979-e5912b99da02",
   "metadata": {},
   "outputs": [],
   "source": [
    "d1=[]\n",
    "d2=[]\n",
    "d3=[]\n",
    "d4=[]\n",
    "for i in range(50000):\n",
    "    x=random.random()\n",
    "    d1.append(x)\n",
    "    y=random.random()\n",
    "    d2.append(y)\n",
    "    z=random.random()\n",
    "    d3.append(z)\n",
    "    d4.append(2*x+3*y+z)"
   ]
  },
  {
   "cell_type": "code",
   "execution_count": 3,
   "id": "3aa7ba9b-7313-4045-af96-5eb2f94ace57",
   "metadata": {},
   "outputs": [],
   "source": [
    "df=pd.DataFrame({'x1':d1,'x2':d2,'x3':d3,'x4':d4},index=range(0,50000))"
   ]
  },
  {
   "cell_type": "code",
   "execution_count": 4,
   "id": "a4744e1a-72bc-473d-8c85-a24b2d11f8f5",
   "metadata": {},
   "outputs": [
    {
     "data": {
      "text/html": [
       "<div>\n",
       "<style scoped>\n",
       "    .dataframe tbody tr th:only-of-type {\n",
       "        vertical-align: middle;\n",
       "    }\n",
       "\n",
       "    .dataframe tbody tr th {\n",
       "        vertical-align: top;\n",
       "    }\n",
       "\n",
       "    .dataframe thead th {\n",
       "        text-align: right;\n",
       "    }\n",
       "</style>\n",
       "<table border=\"1\" class=\"dataframe\">\n",
       "  <thead>\n",
       "    <tr style=\"text-align: right;\">\n",
       "      <th></th>\n",
       "      <th>x1</th>\n",
       "      <th>x2</th>\n",
       "      <th>x3</th>\n",
       "      <th>x4</th>\n",
       "    </tr>\n",
       "  </thead>\n",
       "  <tbody>\n",
       "    <tr>\n",
       "      <th>0</th>\n",
       "      <td>0.153884</td>\n",
       "      <td>0.171358</td>\n",
       "      <td>0.161096</td>\n",
       "      <td>0.982937</td>\n",
       "    </tr>\n",
       "    <tr>\n",
       "      <th>1</th>\n",
       "      <td>0.207754</td>\n",
       "      <td>0.907258</td>\n",
       "      <td>0.116049</td>\n",
       "      <td>3.253330</td>\n",
       "    </tr>\n",
       "    <tr>\n",
       "      <th>2</th>\n",
       "      <td>0.968818</td>\n",
       "      <td>0.205686</td>\n",
       "      <td>0.703790</td>\n",
       "      <td>3.258482</td>\n",
       "    </tr>\n",
       "    <tr>\n",
       "      <th>3</th>\n",
       "      <td>0.296709</td>\n",
       "      <td>0.526394</td>\n",
       "      <td>0.622272</td>\n",
       "      <td>2.794872</td>\n",
       "    </tr>\n",
       "    <tr>\n",
       "      <th>4</th>\n",
       "      <td>0.822579</td>\n",
       "      <td>0.243627</td>\n",
       "      <td>0.637837</td>\n",
       "      <td>3.013875</td>\n",
       "    </tr>\n",
       "    <tr>\n",
       "      <th>...</th>\n",
       "      <td>...</td>\n",
       "      <td>...</td>\n",
       "      <td>...</td>\n",
       "      <td>...</td>\n",
       "    </tr>\n",
       "    <tr>\n",
       "      <th>49995</th>\n",
       "      <td>0.304229</td>\n",
       "      <td>0.429601</td>\n",
       "      <td>0.931123</td>\n",
       "      <td>2.828384</td>\n",
       "    </tr>\n",
       "    <tr>\n",
       "      <th>49996</th>\n",
       "      <td>0.304617</td>\n",
       "      <td>0.652803</td>\n",
       "      <td>0.241579</td>\n",
       "      <td>2.809222</td>\n",
       "    </tr>\n",
       "    <tr>\n",
       "      <th>49997</th>\n",
       "      <td>0.809167</td>\n",
       "      <td>0.726646</td>\n",
       "      <td>0.360557</td>\n",
       "      <td>4.158830</td>\n",
       "    </tr>\n",
       "    <tr>\n",
       "      <th>49998</th>\n",
       "      <td>0.891716</td>\n",
       "      <td>0.681459</td>\n",
       "      <td>0.538339</td>\n",
       "      <td>4.366148</td>\n",
       "    </tr>\n",
       "    <tr>\n",
       "      <th>49999</th>\n",
       "      <td>0.671148</td>\n",
       "      <td>0.601036</td>\n",
       "      <td>0.717940</td>\n",
       "      <td>3.863345</td>\n",
       "    </tr>\n",
       "  </tbody>\n",
       "</table>\n",
       "<p>50000 rows × 4 columns</p>\n",
       "</div>"
      ],
      "text/plain": [
       "             x1        x2        x3        x4\n",
       "0      0.153884  0.171358  0.161096  0.982937\n",
       "1      0.207754  0.907258  0.116049  3.253330\n",
       "2      0.968818  0.205686  0.703790  3.258482\n",
       "3      0.296709  0.526394  0.622272  2.794872\n",
       "4      0.822579  0.243627  0.637837  3.013875\n",
       "...         ...       ...       ...       ...\n",
       "49995  0.304229  0.429601  0.931123  2.828384\n",
       "49996  0.304617  0.652803  0.241579  2.809222\n",
       "49997  0.809167  0.726646  0.360557  4.158830\n",
       "49998  0.891716  0.681459  0.538339  4.366148\n",
       "49999  0.671148  0.601036  0.717940  3.863345\n",
       "\n",
       "[50000 rows x 4 columns]"
      ]
     },
     "execution_count": 4,
     "metadata": {},
     "output_type": "execute_result"
    }
   ],
   "source": [
    "df"
   ]
  },
  {
   "cell_type": "code",
   "execution_count": 5,
   "id": "03e5d3b2-a8a2-434f-92da-8fa324fb5d9b",
   "metadata": {},
   "outputs": [
    {
     "name": "stdout",
     "output_type": "stream",
     "text": [
      "         x1        x2        x3        x4    x5\n",
      "0  0.989174  0.214017  0.198643  2.819043   Low\n",
      "1  0.314174  0.763346  0.952643  3.871028  High\n",
      "2  0.219778  0.772589  0.979801  3.737123  High\n",
      "3  0.442234  0.476098  0.568880  2.881642   Low\n",
      "4  0.794655  0.682047  0.399154  4.034603  High\n"
     ]
    }
   ],
   "source": [
    "import random\n",
    "\n",
    "# Generate random data\n",
    "d1 = [random.random() for _ in range(50000)]\n",
    "d2 = [random.random() for _ in range(50000)]\n",
    "d3 = [random.random() for _ in range(50000)]\n",
    "d4 = [2 * x + 3 * y + z for x, y, z in zip(d1, d2, d3)]\n",
    "\n",
    "# Create DataFrame\n",
    "df = pd.DataFrame({'x1': d1, 'x2': d2, 'x3': d3, 'x4': d4})\n",
    "\n",
    "# Define bin edges and labels\n",
    "bins = [df[\"x4\"].min(), df[\"x4\"].quantile(0.50),df[\"x4\"].max()]\n",
    "labels = [\"Low\", \"High\"]\n",
    "\n",
    "# Create x5 column with bins\n",
    "df[\"x5\"] = pd.cut(df[\"x4\"], bins=bins, labels=labels, include_lowest=True)\n",
    "\n",
    "# Display first few rows\n",
    "print(df.head())"
   ]
  },
  {
   "cell_type": "code",
   "execution_count": 6,
   "id": "43adbcdb-a8fd-44aa-ad99-ad75ebae07d7",
   "metadata": {},
   "outputs": [],
   "source": [
    "df[\"x5_encoded\"] = df[\"x5\"].map({\"Low\": -1, \"High\": 1})"
   ]
  },
  {
   "cell_type": "code",
   "execution_count": 7,
   "id": "6faf7443-14b4-4da7-88b5-f00296fd1aab",
   "metadata": {},
   "outputs": [],
   "source": [
    "df[\"x5_encoded\"] = df[\"x5_encoded\"].astype(int)"
   ]
  },
  {
   "cell_type": "code",
   "execution_count": 8,
   "id": "2842b5df-e65a-40cc-81e5-8f2f16f1e41a",
   "metadata": {},
   "outputs": [],
   "source": [
    "X = df.iloc[:,0:3]\n",
    "Y = df.iloc[:,5]"
   ]
  },
  {
   "cell_type": "code",
   "execution_count": 9,
   "id": "dc679ae6-93f4-4f36-9f44-9a2fb244f658",
   "metadata": {},
   "outputs": [
    {
     "data": {
      "text/html": [
       "<div>\n",
       "<style scoped>\n",
       "    .dataframe tbody tr th:only-of-type {\n",
       "        vertical-align: middle;\n",
       "    }\n",
       "\n",
       "    .dataframe tbody tr th {\n",
       "        vertical-align: top;\n",
       "    }\n",
       "\n",
       "    .dataframe thead th {\n",
       "        text-align: right;\n",
       "    }\n",
       "</style>\n",
       "<table border=\"1\" class=\"dataframe\">\n",
       "  <thead>\n",
       "    <tr style=\"text-align: right;\">\n",
       "      <th></th>\n",
       "      <th>x1</th>\n",
       "      <th>x2</th>\n",
       "      <th>x3</th>\n",
       "    </tr>\n",
       "  </thead>\n",
       "  <tbody>\n",
       "    <tr>\n",
       "      <th>0</th>\n",
       "      <td>0.989174</td>\n",
       "      <td>0.214017</td>\n",
       "      <td>0.198643</td>\n",
       "    </tr>\n",
       "    <tr>\n",
       "      <th>1</th>\n",
       "      <td>0.314174</td>\n",
       "      <td>0.763346</td>\n",
       "      <td>0.952643</td>\n",
       "    </tr>\n",
       "    <tr>\n",
       "      <th>2</th>\n",
       "      <td>0.219778</td>\n",
       "      <td>0.772589</td>\n",
       "      <td>0.979801</td>\n",
       "    </tr>\n",
       "    <tr>\n",
       "      <th>3</th>\n",
       "      <td>0.442234</td>\n",
       "      <td>0.476098</td>\n",
       "      <td>0.568880</td>\n",
       "    </tr>\n",
       "    <tr>\n",
       "      <th>4</th>\n",
       "      <td>0.794655</td>\n",
       "      <td>0.682047</td>\n",
       "      <td>0.399154</td>\n",
       "    </tr>\n",
       "    <tr>\n",
       "      <th>...</th>\n",
       "      <td>...</td>\n",
       "      <td>...</td>\n",
       "      <td>...</td>\n",
       "    </tr>\n",
       "    <tr>\n",
       "      <th>49995</th>\n",
       "      <td>0.408647</td>\n",
       "      <td>0.919391</td>\n",
       "      <td>0.219290</td>\n",
       "    </tr>\n",
       "    <tr>\n",
       "      <th>49996</th>\n",
       "      <td>0.437341</td>\n",
       "      <td>0.852733</td>\n",
       "      <td>0.741778</td>\n",
       "    </tr>\n",
       "    <tr>\n",
       "      <th>49997</th>\n",
       "      <td>0.134431</td>\n",
       "      <td>0.268192</td>\n",
       "      <td>0.178911</td>\n",
       "    </tr>\n",
       "    <tr>\n",
       "      <th>49998</th>\n",
       "      <td>0.137059</td>\n",
       "      <td>0.136764</td>\n",
       "      <td>0.482578</td>\n",
       "    </tr>\n",
       "    <tr>\n",
       "      <th>49999</th>\n",
       "      <td>0.015110</td>\n",
       "      <td>0.244243</td>\n",
       "      <td>0.815489</td>\n",
       "    </tr>\n",
       "  </tbody>\n",
       "</table>\n",
       "<p>50000 rows × 3 columns</p>\n",
       "</div>"
      ],
      "text/plain": [
       "             x1        x2        x3\n",
       "0      0.989174  0.214017  0.198643\n",
       "1      0.314174  0.763346  0.952643\n",
       "2      0.219778  0.772589  0.979801\n",
       "3      0.442234  0.476098  0.568880\n",
       "4      0.794655  0.682047  0.399154\n",
       "...         ...       ...       ...\n",
       "49995  0.408647  0.919391  0.219290\n",
       "49996  0.437341  0.852733  0.741778\n",
       "49997  0.134431  0.268192  0.178911\n",
       "49998  0.137059  0.136764  0.482578\n",
       "49999  0.015110  0.244243  0.815489\n",
       "\n",
       "[50000 rows x 3 columns]"
      ]
     },
     "execution_count": 9,
     "metadata": {},
     "output_type": "execute_result"
    }
   ],
   "source": [
    "X"
   ]
  },
  {
   "cell_type": "code",
   "execution_count": 10,
   "id": "82199b6f-9b95-41f5-8630-8f640341b78e",
   "metadata": {},
   "outputs": [
    {
     "data": {
      "text/plain": [
       "0       -1\n",
       "1        1\n",
       "2        1\n",
       "3       -1\n",
       "4        1\n",
       "        ..\n",
       "49995    1\n",
       "49996    1\n",
       "49997   -1\n",
       "49998   -1\n",
       "49999   -1\n",
       "Name: x5_encoded, Length: 50000, dtype: int32"
      ]
     },
     "execution_count": 10,
     "metadata": {},
     "output_type": "execute_result"
    }
   ],
   "source": [
    "Y"
   ]
  },
  {
   "cell_type": "code",
   "execution_count": 11,
   "id": "b056e632-d907-476e-9234-7f20ab8b2d45",
   "metadata": {},
   "outputs": [],
   "source": [
    "import tensorflow as tf\n",
    "from sklearn.model_selection import train_test_split"
   ]
  },
  {
   "cell_type": "code",
   "execution_count": 12,
   "id": "8beea509-efd6-4828-b307-a7ddd542d4f2",
   "metadata": {},
   "outputs": [
    {
     "data": {
      "text/html": [
       "<div>\n",
       "<style scoped>\n",
       "    .dataframe tbody tr th:only-of-type {\n",
       "        vertical-align: middle;\n",
       "    }\n",
       "\n",
       "    .dataframe tbody tr th {\n",
       "        vertical-align: top;\n",
       "    }\n",
       "\n",
       "    .dataframe thead th {\n",
       "        text-align: right;\n",
       "    }\n",
       "</style>\n",
       "<table border=\"1\" class=\"dataframe\">\n",
       "  <thead>\n",
       "    <tr style=\"text-align: right;\">\n",
       "      <th></th>\n",
       "      <th>x1</th>\n",
       "      <th>x2</th>\n",
       "      <th>x3</th>\n",
       "      <th>x4</th>\n",
       "      <th>x5</th>\n",
       "      <th>x5_encoded</th>\n",
       "    </tr>\n",
       "  </thead>\n",
       "  <tbody>\n",
       "    <tr>\n",
       "      <th>0</th>\n",
       "      <td>0.989174</td>\n",
       "      <td>0.214017</td>\n",
       "      <td>0.198643</td>\n",
       "      <td>2.819043</td>\n",
       "      <td>Low</td>\n",
       "      <td>-1</td>\n",
       "    </tr>\n",
       "    <tr>\n",
       "      <th>1</th>\n",
       "      <td>0.314174</td>\n",
       "      <td>0.763346</td>\n",
       "      <td>0.952643</td>\n",
       "      <td>3.871028</td>\n",
       "      <td>High</td>\n",
       "      <td>1</td>\n",
       "    </tr>\n",
       "    <tr>\n",
       "      <th>2</th>\n",
       "      <td>0.219778</td>\n",
       "      <td>0.772589</td>\n",
       "      <td>0.979801</td>\n",
       "      <td>3.737123</td>\n",
       "      <td>High</td>\n",
       "      <td>1</td>\n",
       "    </tr>\n",
       "    <tr>\n",
       "      <th>3</th>\n",
       "      <td>0.442234</td>\n",
       "      <td>0.476098</td>\n",
       "      <td>0.568880</td>\n",
       "      <td>2.881642</td>\n",
       "      <td>Low</td>\n",
       "      <td>-1</td>\n",
       "    </tr>\n",
       "    <tr>\n",
       "      <th>4</th>\n",
       "      <td>0.794655</td>\n",
       "      <td>0.682047</td>\n",
       "      <td>0.399154</td>\n",
       "      <td>4.034603</td>\n",
       "      <td>High</td>\n",
       "      <td>1</td>\n",
       "    </tr>\n",
       "  </tbody>\n",
       "</table>\n",
       "</div>"
      ],
      "text/plain": [
       "         x1        x2        x3        x4    x5  x5_encoded\n",
       "0  0.989174  0.214017  0.198643  2.819043   Low          -1\n",
       "1  0.314174  0.763346  0.952643  3.871028  High           1\n",
       "2  0.219778  0.772589  0.979801  3.737123  High           1\n",
       "3  0.442234  0.476098  0.568880  2.881642   Low          -1\n",
       "4  0.794655  0.682047  0.399154  4.034603  High           1"
      ]
     },
     "execution_count": 12,
     "metadata": {},
     "output_type": "execute_result"
    }
   ],
   "source": [
    "df.head()"
   ]
  },
  {
   "cell_type": "code",
   "execution_count": 13,
   "id": "9fd85979-147d-4779-99a4-ecf6bdf6bbf3",
   "metadata": {},
   "outputs": [],
   "source": [
    "X_train, X_test, y_train, y_test = train_test_split(X, Y, test_size=0.2)"
   ]
  },
  {
   "cell_type": "code",
   "execution_count": 14,
   "id": "019a2368-e498-489c-bfb6-d858c3f279fc",
   "metadata": {},
   "outputs": [
    {
     "data": {
      "text/html": [
       "<div>\n",
       "<style scoped>\n",
       "    .dataframe tbody tr th:only-of-type {\n",
       "        vertical-align: middle;\n",
       "    }\n",
       "\n",
       "    .dataframe tbody tr th {\n",
       "        vertical-align: top;\n",
       "    }\n",
       "\n",
       "    .dataframe thead th {\n",
       "        text-align: right;\n",
       "    }\n",
       "</style>\n",
       "<table border=\"1\" class=\"dataframe\">\n",
       "  <thead>\n",
       "    <tr style=\"text-align: right;\">\n",
       "      <th></th>\n",
       "      <th>x1</th>\n",
       "      <th>x2</th>\n",
       "      <th>x3</th>\n",
       "    </tr>\n",
       "  </thead>\n",
       "  <tbody>\n",
       "    <tr>\n",
       "      <th>14777</th>\n",
       "      <td>0.124182</td>\n",
       "      <td>0.834371</td>\n",
       "      <td>0.614580</td>\n",
       "    </tr>\n",
       "    <tr>\n",
       "      <th>3240</th>\n",
       "      <td>0.993931</td>\n",
       "      <td>0.399074</td>\n",
       "      <td>0.689664</td>\n",
       "    </tr>\n",
       "    <tr>\n",
       "      <th>23546</th>\n",
       "      <td>0.437700</td>\n",
       "      <td>0.469460</td>\n",
       "      <td>0.001359</td>\n",
       "    </tr>\n",
       "    <tr>\n",
       "      <th>29205</th>\n",
       "      <td>0.719155</td>\n",
       "      <td>0.237499</td>\n",
       "      <td>0.102350</td>\n",
       "    </tr>\n",
       "    <tr>\n",
       "      <th>4202</th>\n",
       "      <td>0.948721</td>\n",
       "      <td>0.804054</td>\n",
       "      <td>0.511264</td>\n",
       "    </tr>\n",
       "    <tr>\n",
       "      <th>...</th>\n",
       "      <td>...</td>\n",
       "      <td>...</td>\n",
       "      <td>...</td>\n",
       "    </tr>\n",
       "    <tr>\n",
       "      <th>45035</th>\n",
       "      <td>0.732618</td>\n",
       "      <td>0.498403</td>\n",
       "      <td>0.739789</td>\n",
       "    </tr>\n",
       "    <tr>\n",
       "      <th>6414</th>\n",
       "      <td>0.466208</td>\n",
       "      <td>0.919337</td>\n",
       "      <td>0.166993</td>\n",
       "    </tr>\n",
       "    <tr>\n",
       "      <th>18679</th>\n",
       "      <td>0.191636</td>\n",
       "      <td>0.225093</td>\n",
       "      <td>0.106129</td>\n",
       "    </tr>\n",
       "    <tr>\n",
       "      <th>6964</th>\n",
       "      <td>0.386454</td>\n",
       "      <td>0.303481</td>\n",
       "      <td>0.700139</td>\n",
       "    </tr>\n",
       "    <tr>\n",
       "      <th>9244</th>\n",
       "      <td>0.146289</td>\n",
       "      <td>0.146394</td>\n",
       "      <td>0.302109</td>\n",
       "    </tr>\n",
       "  </tbody>\n",
       "</table>\n",
       "<p>40000 rows × 3 columns</p>\n",
       "</div>"
      ],
      "text/plain": [
       "             x1        x2        x3\n",
       "14777  0.124182  0.834371  0.614580\n",
       "3240   0.993931  0.399074  0.689664\n",
       "23546  0.437700  0.469460  0.001359\n",
       "29205  0.719155  0.237499  0.102350\n",
       "4202   0.948721  0.804054  0.511264\n",
       "...         ...       ...       ...\n",
       "45035  0.732618  0.498403  0.739789\n",
       "6414   0.466208  0.919337  0.166993\n",
       "18679  0.191636  0.225093  0.106129\n",
       "6964   0.386454  0.303481  0.700139\n",
       "9244   0.146289  0.146394  0.302109\n",
       "\n",
       "[40000 rows x 3 columns]"
      ]
     },
     "execution_count": 14,
     "metadata": {},
     "output_type": "execute_result"
    }
   ],
   "source": [
    "X_train"
   ]
  },
  {
   "cell_type": "code",
   "execution_count": 15,
   "id": "bd1acd76-8dec-44a2-ab2f-953c8337ea7a",
   "metadata": {},
   "outputs": [],
   "source": [
    "model = tf.keras.models.Sequential([\n",
    "    tf.keras.layers.Dense(9, input_dim=3, activation='relu'),\n",
    "    tf.keras.layers.Dense(6, activation='relu'),\n",
    "    tf.keras.layers.Dense(1, activation='softmax')  # 3 output classes: -1, 0, 1\n",
    "])\n",
    "\n",
    "model.compile(optimizer='adam',\n",
    "              loss='binary_crossentropy',  # Use sparse categorical crossentropy\n",
    "              metrics=['accuracy'])"
   ]
  },
  {
   "cell_type": "code",
   "execution_count": 16,
   "id": "49498400-ed29-4a32-92f1-eea8e453f6aa",
   "metadata": {},
   "outputs": [
    {
     "name": "stdout",
     "output_type": "stream",
     "text": [
      "Epoch 1/20\n",
      "\u001b[1m1250/1250\u001b[0m \u001b[32m━━━━━━━━━━━━━━━━━━━━\u001b[0m\u001b[37m\u001b[0m \u001b[1m8s\u001b[0m 4ms/step - accuracy: 0.5064 - loss: -0.6446\n",
      "Epoch 2/20\n",
      "\u001b[1m1250/1250\u001b[0m \u001b[32m━━━━━━━━━━━━━━━━━━━━\u001b[0m\u001b[37m\u001b[0m \u001b[1m5s\u001b[0m 4ms/step - accuracy: 0.5046 - loss: -34.5626\n",
      "Epoch 3/20\n",
      "\u001b[1m1250/1250\u001b[0m \u001b[32m━━━━━━━━━━━━━━━━━━━━\u001b[0m\u001b[37m\u001b[0m \u001b[1m5s\u001b[0m 4ms/step - accuracy: 0.5084 - loss: -171.4567\n",
      "Epoch 4/20\n",
      "\u001b[1m1250/1250\u001b[0m \u001b[32m━━━━━━━━━━━━━━━━━━━━\u001b[0m\u001b[37m\u001b[0m \u001b[1m5s\u001b[0m 4ms/step - accuracy: 0.5028 - loss: -458.6705\n",
      "Epoch 5/20\n",
      "\u001b[1m1250/1250\u001b[0m \u001b[32m━━━━━━━━━━━━━━━━━━━━\u001b[0m\u001b[37m\u001b[0m \u001b[1m5s\u001b[0m 4ms/step - accuracy: 0.5058 - loss: -890.7260\n",
      "Epoch 6/20\n",
      "\u001b[1m1250/1250\u001b[0m \u001b[32m━━━━━━━━━━━━━━━━━━━━\u001b[0m\u001b[37m\u001b[0m \u001b[1m5s\u001b[0m 4ms/step - accuracy: 0.4999 - loss: -1534.8254\n",
      "Epoch 7/20\n",
      "\u001b[1m1250/1250\u001b[0m \u001b[32m━━━━━━━━━━━━━━━━━━━━\u001b[0m\u001b[37m\u001b[0m \u001b[1m5s\u001b[0m 4ms/step - accuracy: 0.5022 - loss: -2356.9644\n",
      "Epoch 8/20\n",
      "\u001b[1m1250/1250\u001b[0m \u001b[32m━━━━━━━━━━━━━━━━━━━━\u001b[0m\u001b[37m\u001b[0m \u001b[1m5s\u001b[0m 4ms/step - accuracy: 0.5060 - loss: -3382.7407\n",
      "Epoch 9/20\n",
      "\u001b[1m1250/1250\u001b[0m \u001b[32m━━━━━━━━━━━━━━━━━━━━\u001b[0m\u001b[37m\u001b[0m \u001b[1m5s\u001b[0m 4ms/step - accuracy: 0.5050 - loss: -4650.2261\n",
      "Epoch 10/20\n",
      "\u001b[1m1250/1250\u001b[0m \u001b[32m━━━━━━━━━━━━━━━━━━━━\u001b[0m\u001b[37m\u001b[0m \u001b[1m5s\u001b[0m 4ms/step - accuracy: 0.5064 - loss: -6189.1201\n",
      "Epoch 11/20\n",
      "\u001b[1m1250/1250\u001b[0m \u001b[32m━━━━━━━━━━━━━━━━━━━━\u001b[0m\u001b[37m\u001b[0m \u001b[1m5s\u001b[0m 4ms/step - accuracy: 0.4995 - loss: -8213.2930\n",
      "Epoch 12/20\n",
      "\u001b[1m1250/1250\u001b[0m \u001b[32m━━━━━━━━━━━━━━━━━━━━\u001b[0m\u001b[37m\u001b[0m \u001b[1m5s\u001b[0m 4ms/step - accuracy: 0.5067 - loss: -10131.5430\n",
      "Epoch 13/20\n",
      "\u001b[1m1250/1250\u001b[0m \u001b[32m━━━━━━━━━━━━━━━━━━━━\u001b[0m\u001b[37m\u001b[0m \u001b[1m5s\u001b[0m 4ms/step - accuracy: 0.5075 - loss: -12584.3047\n",
      "Epoch 14/20\n",
      "\u001b[1m1250/1250\u001b[0m \u001b[32m━━━━━━━━━━━━━━━━━━━━\u001b[0m\u001b[37m\u001b[0m \u001b[1m5s\u001b[0m 4ms/step - accuracy: 0.5010 - loss: -15748.9268\n",
      "Epoch 15/20\n",
      "\u001b[1m1250/1250\u001b[0m \u001b[32m━━━━━━━━━━━━━━━━━━━━\u001b[0m\u001b[37m\u001b[0m \u001b[1m5s\u001b[0m 4ms/step - accuracy: 0.5030 - loss: -18713.5488\n",
      "Epoch 16/20\n",
      "\u001b[1m1250/1250\u001b[0m \u001b[32m━━━━━━━━━━━━━━━━━━━━\u001b[0m\u001b[37m\u001b[0m \u001b[1m5s\u001b[0m 4ms/step - accuracy: 0.5093 - loss: -22072.5430\n",
      "Epoch 17/20\n",
      "\u001b[1m1250/1250\u001b[0m \u001b[32m━━━━━━━━━━━━━━━━━━━━\u001b[0m\u001b[37m\u001b[0m \u001b[1m5s\u001b[0m 4ms/step - accuracy: 0.5052 - loss: -26156.9629\n",
      "Epoch 18/20\n",
      "\u001b[1m1250/1250\u001b[0m \u001b[32m━━━━━━━━━━━━━━━━━━━━\u001b[0m\u001b[37m\u001b[0m \u001b[1m5s\u001b[0m 4ms/step - accuracy: 0.5064 - loss: -30604.2812\n",
      "Epoch 19/20\n",
      "\u001b[1m1250/1250\u001b[0m \u001b[32m━━━━━━━━━━━━━━━━━━━━\u001b[0m\u001b[37m\u001b[0m \u001b[1m5s\u001b[0m 4ms/step - accuracy: 0.5016 - loss: -35844.9297\n",
      "Epoch 20/20\n",
      "\u001b[1m1250/1250\u001b[0m \u001b[32m━━━━━━━━━━━━━━━━━━━━\u001b[0m\u001b[37m\u001b[0m \u001b[1m5s\u001b[0m 4ms/step - accuracy: 0.4979 - loss: -41985.0156\n"
     ]
    }
   ],
   "source": [
    "h1=model.fit(X_train, y_train, epochs=20)"
   ]
  },
  {
   "cell_type": "code",
   "execution_count": 17,
   "id": "6eb7c63f-0e1c-4f57-b649-1f79b769c89f",
   "metadata": {},
   "outputs": [
    {
     "name": "stdout",
     "output_type": "stream",
     "text": [
      "\u001b[1m313/313\u001b[0m \u001b[32m━━━━━━━━━━━━━━━━━━━━\u001b[0m\u001b[37m\u001b[0m \u001b[1m1s\u001b[0m 3ms/step\n"
     ]
    }
   ],
   "source": [
    "y_pred=model.predict(X_test)"
   ]
  },
  {
   "cell_type": "code",
   "execution_count": 18,
   "id": "e94ada1c-163b-4080-aace-6d7aaebfd732",
   "metadata": {},
   "outputs": [],
   "source": [
    "from sklearn.metrics import r2_score,accuracy_score"
   ]
  },
  {
   "cell_type": "code",
   "execution_count": 19,
   "id": "54023bd0-b65e-4a02-adf2-4647cc974479",
   "metadata": {},
   "outputs": [
    {
     "data": {
      "text/plain": [
       "0.484"
      ]
     },
     "execution_count": 19,
     "metadata": {},
     "output_type": "execute_result"
    }
   ],
   "source": [
    "accuracy_score(y_pred, y_test)"
   ]
  },
  {
   "cell_type": "code",
   "execution_count": 20,
   "id": "c39aafe4-52af-4721-aadc-240ac7dd516f",
   "metadata": {},
   "outputs": [],
   "source": [
    "import matplotlib.pyplot as plt\n",
    "%matplotlib inline"
   ]
  },
  {
   "cell_type": "code",
   "execution_count": 21,
   "id": "e40dcd89-5fb4-49c5-9db7-4d346adae01b",
   "metadata": {},
   "outputs": [
    {
     "data": {
      "image/png": "[encoded data removed]",
      "text/plain": [
       "<Figure size 640x480 with 1 Axes>"
      ]
     },
     "metadata": {},
     "output_type": "display_data"
    }
   ],
   "source": [
    "metrics_df = pd.DataFrame(h1.history)\n",
    "metrics_df.plot()\n",
    "plt.show()"
   ]
  },
  {
   "cell_type": "code",
   "execution_count": null,
   "id": "1a8d8a2b-49fd-4ee2-b6b6-7b1f5722c2b1",
   "metadata": {},
   "outputs": [],
   "source": []
  }
 ],
 "metadata": {
  "kernelspec": {
   "display_name": "Python 3 (ipykernel)",
   "language": "python",
   "name": "python3"
  },
  "language_info": {
   "codemirror_mode": {
    "name": "ipython",
    "version": 3
   },
   "file_extension": ".py",
   "mimetype": "text/x-python",
   "name": "python",
   "nbconvert_exporter": "python",
   "pygments_lexer": "ipython3",
   "version": "3.12.7"
  }
 },
 "nbformat": 4,
 "nbformat_minor": 5
}
