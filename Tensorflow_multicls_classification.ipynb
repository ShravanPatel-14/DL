{
 "cells": [
  {
   "cell_type": "code",
   "execution_count": 39,
   "id": "b9e7c4ca-a83f-417c-9e6f-b8f773c6f8eb",
   "metadata": {},
   "outputs": [],
   "source": [
    "import random\n",
    "import pandas as pd\n",
    "import warnings\n",
    "warnings.filterwarnings(\"ignore\")"
   ]
  },
  {
   "cell_type": "code",
   "execution_count": 40,
   "id": "b74ed9ce-c5d7-4e41-9979-e5912b99da02",
   "metadata": {},
   "outputs": [],
   "source": [
    "d1=[]\n",
    "d2=[]\n",
    "d3=[]\n",
    "d4=[]\n",
    "for i in range(50000):\n",
    "    x=random.random()\n",
    "    d1.append(x)\n",
    "    y=random.random()\n",
    "    d2.append(y)\n",
    "    z=random.random()\n",
    "    d3.append(z)\n",
    "    d4.append(2*x+3*y+z)"
   ]
  },
  {
   "cell_type": "code",
   "execution_count": 45,
   "id": "3aa7ba9b-7313-4045-af96-5eb2f94ace57",
   "metadata": {},
   "outputs": [],
   "source": [
    "df=pd.DataFrame({'x1':d1,'x2':d2,'x3':d3,'x4':d4},index=range(0,50000))"
   ]
  },
  {
   "cell_type": "code",
   "execution_count": 46,
   "id": "a4744e1a-72bc-473d-8c85-a24b2d11f8f5",
   "metadata": {},
   "outputs": [
    {
     "data": {
      "text/html": [
       "<div>\n",
       "<style scoped>\n",
       "    .dataframe tbody tr th:only-of-type {\n",
       "        vertical-align: middle;\n",
       "    }\n",
       "\n",
       "    .dataframe tbody tr th {\n",
       "        vertical-align: top;\n",
       "    }\n",
       "\n",
       "    .dataframe thead th {\n",
       "        text-align: right;\n",
       "    }\n",
       "</style>\n",
       "<table border=\"1\" class=\"dataframe\">\n",
       "  <thead>\n",
       "    <tr style=\"text-align: right;\">\n",
       "      <th></th>\n",
       "      <th>x1</th>\n",
       "      <th>x2</th>\n",
       "      <th>x3</th>\n",
       "      <th>x4</th>\n",
       "    </tr>\n",
       "  </thead>\n",
       "  <tbody>\n",
       "    <tr>\n",
       "      <th>0</th>\n",
       "      <td>0.326045</td>\n",
       "      <td>0.650241</td>\n",
       "      <td>0.167698</td>\n",
       "      <td>2.770511</td>\n",
       "    </tr>\n",
       "    <tr>\n",
       "      <th>1</th>\n",
       "      <td>0.837068</td>\n",
       "      <td>0.682782</td>\n",
       "      <td>0.778179</td>\n",
       "      <td>4.500661</td>\n",
       "    </tr>\n",
       "    <tr>\n",
       "      <th>2</th>\n",
       "      <td>0.023471</td>\n",
       "      <td>0.801235</td>\n",
       "      <td>0.140595</td>\n",
       "      <td>2.591243</td>\n",
       "    </tr>\n",
       "    <tr>\n",
       "      <th>3</th>\n",
       "      <td>0.331136</td>\n",
       "      <td>0.741039</td>\n",
       "      <td>0.776400</td>\n",
       "      <td>3.661789</td>\n",
       "    </tr>\n",
       "    <tr>\n",
       "      <th>4</th>\n",
       "      <td>0.953667</td>\n",
       "      <td>0.624469</td>\n",
       "      <td>0.659746</td>\n",
       "      <td>4.440488</td>\n",
       "    </tr>\n",
       "    <tr>\n",
       "      <th>...</th>\n",
       "      <td>...</td>\n",
       "      <td>...</td>\n",
       "      <td>...</td>\n",
       "      <td>...</td>\n",
       "    </tr>\n",
       "    <tr>\n",
       "      <th>49995</th>\n",
       "      <td>0.647307</td>\n",
       "      <td>0.294177</td>\n",
       "      <td>0.771512</td>\n",
       "      <td>2.948657</td>\n",
       "    </tr>\n",
       "    <tr>\n",
       "      <th>49996</th>\n",
       "      <td>0.363181</td>\n",
       "      <td>0.893179</td>\n",
       "      <td>0.188536</td>\n",
       "      <td>3.594436</td>\n",
       "    </tr>\n",
       "    <tr>\n",
       "      <th>49997</th>\n",
       "      <td>0.475285</td>\n",
       "      <td>0.652112</td>\n",
       "      <td>0.362982</td>\n",
       "      <td>3.269889</td>\n",
       "    </tr>\n",
       "    <tr>\n",
       "      <th>49998</th>\n",
       "      <td>0.348649</td>\n",
       "      <td>0.488952</td>\n",
       "      <td>0.009635</td>\n",
       "      <td>2.173788</td>\n",
       "    </tr>\n",
       "    <tr>\n",
       "      <th>49999</th>\n",
       "      <td>0.744989</td>\n",
       "      <td>0.971003</td>\n",
       "      <td>0.256240</td>\n",
       "      <td>4.659228</td>\n",
       "    </tr>\n",
       "  </tbody>\n",
       "</table>\n",
       "<p>50000 rows × 4 columns</p>\n",
       "</div>"
      ],
      "text/plain": [
       "             x1        x2        x3        x4\n",
       "0      0.326045  0.650241  0.167698  2.770511\n",
       "1      0.837068  0.682782  0.778179  4.500661\n",
       "2      0.023471  0.801235  0.140595  2.591243\n",
       "3      0.331136  0.741039  0.776400  3.661789\n",
       "4      0.953667  0.624469  0.659746  4.440488\n",
       "...         ...       ...       ...       ...\n",
       "49995  0.647307  0.294177  0.771512  2.948657\n",
       "49996  0.363181  0.893179  0.188536  3.594436\n",
       "49997  0.475285  0.652112  0.362982  3.269889\n",
       "49998  0.348649  0.488952  0.009635  2.173788\n",
       "49999  0.744989  0.971003  0.256240  4.659228\n",
       "\n",
       "[50000 rows x 4 columns]"
      ]
     },
     "execution_count": 46,
     "metadata": {},
     "output_type": "execute_result"
    }
   ],
   "source": [
    "df"
   ]
  },
  {
   "cell_type": "code",
   "execution_count": 47,
   "id": "03e5d3b2-a8a2-434f-92da-8fa324fb5d9b",
   "metadata": {},
   "outputs": [
    {
     "name": "stdout",
     "output_type": "stream",
     "text": [
      "         x1        x2        x3        x4    x5\n",
      "0  0.512787  0.826210  0.544354  4.048560  High\n",
      "1  0.955310  0.769977  0.318760  4.539309  High\n",
      "2  0.071535  0.633909  0.193316  2.238114   Low\n",
      "3  0.530895  0.174457  0.002348  1.587508   Low\n",
      "4  0.491484  0.837153  0.303932  3.798360  High\n"
     ]
    }
   ],
   "source": [
    "import random\n",
    "\n",
    "# Generate random data\n",
    "d1 = [random.random() for _ in range(50000)]\n",
    "d2 = [random.random() for _ in range(50000)]\n",
    "d3 = [random.random() for _ in range(50000)]\n",
    "d4 = [2 * x + 3 * y + z for x, y, z in zip(d1, d2, d3)]\n",
    "\n",
    "# Create DataFrame\n",
    "df = pd.DataFrame({'x1': d1, 'x2': d2, 'x3': d3, 'x4': d4})\n",
    "\n",
    "# Define bin edges and labels\n",
    "bins = [df[\"x4\"].min(), df[\"x4\"].quantile(0.50),df[\"x4\"].max()]\n",
    "labels = [\"Low\", \"High\"]\n",
    "\n",
    "# Create x5 column with bins\n",
    "df[\"x5\"] = pd.cut(df[\"x4\"], bins=bins, labels=labels, include_lowest=True)\n",
    "\n",
    "# Display first few rows\n",
    "print(df.head())"
   ]
  },
  {
   "cell_type": "code",
   "execution_count": 64,
   "id": "43adbcdb-a8fd-44aa-ad99-ad75ebae07d7",
   "metadata": {},
   "outputs": [],
   "source": [
    "df[\"x5_encoded\"] = df[\"x5\"].map({\"Low\": -1, \"High\": 1,\"Medium\":0})"
   ]
  },
  {
   "cell_type": "code",
   "execution_count": 65,
   "id": "6faf7443-14b4-4da7-88b5-f00296fd1aab",
   "metadata": {},
   "outputs": [],
   "source": [
    "df[\"x5_encoded\"] = df[\"x5_encoded\"].astype(int)"
   ]
  },
  {
   "cell_type": "code",
   "execution_count": 66,
   "id": "2842b5df-e65a-40cc-81e5-8f2f16f1e41a",
   "metadata": {},
   "outputs": [],
   "source": [
    "X = df.iloc[:,0:3]\n",
    "Y = df.iloc[:,5]"
   ]
  },
  {
   "cell_type": "code",
   "execution_count": 67,
   "id": "dc679ae6-93f4-4f36-9f44-9a2fb244f658",
   "metadata": {},
   "outputs": [
    {
     "data": {
      "text/html": [
       "<div>\n",
       "<style scoped>\n",
       "    .dataframe tbody tr th:only-of-type {\n",
       "        vertical-align: middle;\n",
       "    }\n",
       "\n",
       "    .dataframe tbody tr th {\n",
       "        vertical-align: top;\n",
       "    }\n",
       "\n",
       "    .dataframe thead th {\n",
       "        text-align: right;\n",
       "    }\n",
       "</style>\n",
       "<table border=\"1\" class=\"dataframe\">\n",
       "  <thead>\n",
       "    <tr style=\"text-align: right;\">\n",
       "      <th></th>\n",
       "      <th>x1</th>\n",
       "      <th>x2</th>\n",
       "      <th>x3</th>\n",
       "    </tr>\n",
       "  </thead>\n",
       "  <tbody>\n",
       "    <tr>\n",
       "      <th>0</th>\n",
       "      <td>0.512787</td>\n",
       "      <td>0.826210</td>\n",
       "      <td>0.544354</td>\n",
       "    </tr>\n",
       "    <tr>\n",
       "      <th>1</th>\n",
       "      <td>0.955310</td>\n",
       "      <td>0.769977</td>\n",
       "      <td>0.318760</td>\n",
       "    </tr>\n",
       "    <tr>\n",
       "      <th>2</th>\n",
       "      <td>0.071535</td>\n",
       "      <td>0.633909</td>\n",
       "      <td>0.193316</td>\n",
       "    </tr>\n",
       "    <tr>\n",
       "      <th>3</th>\n",
       "      <td>0.530895</td>\n",
       "      <td>0.174457</td>\n",
       "      <td>0.002348</td>\n",
       "    </tr>\n",
       "    <tr>\n",
       "      <th>4</th>\n",
       "      <td>0.491484</td>\n",
       "      <td>0.837153</td>\n",
       "      <td>0.303932</td>\n",
       "    </tr>\n",
       "    <tr>\n",
       "      <th>...</th>\n",
       "      <td>...</td>\n",
       "      <td>...</td>\n",
       "      <td>...</td>\n",
       "    </tr>\n",
       "    <tr>\n",
       "      <th>49995</th>\n",
       "      <td>0.510291</td>\n",
       "      <td>0.403649</td>\n",
       "      <td>0.243078</td>\n",
       "    </tr>\n",
       "    <tr>\n",
       "      <th>49996</th>\n",
       "      <td>0.932557</td>\n",
       "      <td>0.472495</td>\n",
       "      <td>0.683625</td>\n",
       "    </tr>\n",
       "    <tr>\n",
       "      <th>49997</th>\n",
       "      <td>0.188395</td>\n",
       "      <td>0.727961</td>\n",
       "      <td>0.148521</td>\n",
       "    </tr>\n",
       "    <tr>\n",
       "      <th>49998</th>\n",
       "      <td>0.518018</td>\n",
       "      <td>0.505121</td>\n",
       "      <td>0.025666</td>\n",
       "    </tr>\n",
       "    <tr>\n",
       "      <th>49999</th>\n",
       "      <td>0.562711</td>\n",
       "      <td>0.713622</td>\n",
       "      <td>0.989872</td>\n",
       "    </tr>\n",
       "  </tbody>\n",
       "</table>\n",
       "<p>50000 rows × 3 columns</p>\n",
       "</div>"
      ],
      "text/plain": [
       "             x1        x2        x3\n",
       "0      0.512787  0.826210  0.544354\n",
       "1      0.955310  0.769977  0.318760\n",
       "2      0.071535  0.633909  0.193316\n",
       "3      0.530895  0.174457  0.002348\n",
       "4      0.491484  0.837153  0.303932\n",
       "...         ...       ...       ...\n",
       "49995  0.510291  0.403649  0.243078\n",
       "49996  0.932557  0.472495  0.683625\n",
       "49997  0.188395  0.727961  0.148521\n",
       "49998  0.518018  0.505121  0.025666\n",
       "49999  0.562711  0.713622  0.989872\n",
       "\n",
       "[50000 rows x 3 columns]"
      ]
     },
     "execution_count": 67,
     "metadata": {},
     "output_type": "execute_result"
    }
   ],
   "source": [
    "X"
   ]
  },
  {
   "cell_type": "code",
   "execution_count": 68,
   "id": "82199b6f-9b95-41f5-8630-8f640341b78e",
   "metadata": {},
   "outputs": [
    {
     "data": {
      "text/plain": [
       "0        1\n",
       "1        1\n",
       "2       -1\n",
       "3       -1\n",
       "4        1\n",
       "        ..\n",
       "49995   -1\n",
       "49996    1\n",
       "49997   -1\n",
       "49998   -1\n",
       "49999    1\n",
       "Name: x5_encoded, Length: 50000, dtype: int32"
      ]
     },
     "execution_count": 68,
     "metadata": {},
     "output_type": "execute_result"
    }
   ],
   "source": [
    "Y"
   ]
  },
  {
   "cell_type": "code",
   "execution_count": 69,
   "id": "b056e632-d907-476e-9234-7f20ab8b2d45",
   "metadata": {},
   "outputs": [],
   "source": [
    "import tensorflow as tf\n",
    "from sklearn.model_selection import train_test_split"
   ]
  },
  {
   "cell_type": "code",
   "execution_count": 70,
   "id": "8beea509-efd6-4828-b307-a7ddd542d4f2",
   "metadata": {},
   "outputs": [
    {
     "data": {
      "text/html": [
       "<div>\n",
       "<style scoped>\n",
       "    .dataframe tbody tr th:only-of-type {\n",
       "        vertical-align: middle;\n",
       "    }\n",
       "\n",
       "    .dataframe tbody tr th {\n",
       "        vertical-align: top;\n",
       "    }\n",
       "\n",
       "    .dataframe thead th {\n",
       "        text-align: right;\n",
       "    }\n",
       "</style>\n",
       "<table border=\"1\" class=\"dataframe\">\n",
       "  <thead>\n",
       "    <tr style=\"text-align: right;\">\n",
       "      <th></th>\n",
       "      <th>x1</th>\n",
       "      <th>x2</th>\n",
       "      <th>x3</th>\n",
       "      <th>x4</th>\n",
       "      <th>x5</th>\n",
       "      <th>x5_encoded</th>\n",
       "    </tr>\n",
       "  </thead>\n",
       "  <tbody>\n",
       "    <tr>\n",
       "      <th>0</th>\n",
       "      <td>0.512787</td>\n",
       "      <td>0.826210</td>\n",
       "      <td>0.544354</td>\n",
       "      <td>4.048560</td>\n",
       "      <td>High</td>\n",
       "      <td>1</td>\n",
       "    </tr>\n",
       "    <tr>\n",
       "      <th>1</th>\n",
       "      <td>0.955310</td>\n",
       "      <td>0.769977</td>\n",
       "      <td>0.318760</td>\n",
       "      <td>4.539309</td>\n",
       "      <td>High</td>\n",
       "      <td>1</td>\n",
       "    </tr>\n",
       "    <tr>\n",
       "      <th>2</th>\n",
       "      <td>0.071535</td>\n",
       "      <td>0.633909</td>\n",
       "      <td>0.193316</td>\n",
       "      <td>2.238114</td>\n",
       "      <td>Low</td>\n",
       "      <td>-1</td>\n",
       "    </tr>\n",
       "    <tr>\n",
       "      <th>3</th>\n",
       "      <td>0.530895</td>\n",
       "      <td>0.174457</td>\n",
       "      <td>0.002348</td>\n",
       "      <td>1.587508</td>\n",
       "      <td>Low</td>\n",
       "      <td>-1</td>\n",
       "    </tr>\n",
       "    <tr>\n",
       "      <th>4</th>\n",
       "      <td>0.491484</td>\n",
       "      <td>0.837153</td>\n",
       "      <td>0.303932</td>\n",
       "      <td>3.798360</td>\n",
       "      <td>High</td>\n",
       "      <td>1</td>\n",
       "    </tr>\n",
       "  </tbody>\n",
       "</table>\n",
       "</div>"
      ],
      "text/plain": [
       "         x1        x2        x3        x4    x5  x5_encoded\n",
       "0  0.512787  0.826210  0.544354  4.048560  High           1\n",
       "1  0.955310  0.769977  0.318760  4.539309  High           1\n",
       "2  0.071535  0.633909  0.193316  2.238114   Low          -1\n",
       "3  0.530895  0.174457  0.002348  1.587508   Low          -1\n",
       "4  0.491484  0.837153  0.303932  3.798360  High           1"
      ]
     },
     "execution_count": 70,
     "metadata": {},
     "output_type": "execute_result"
    }
   ],
   "source": [
    "df.head()"
   ]
  },
  {
   "cell_type": "code",
   "execution_count": 71,
   "id": "9fd85979-147d-4779-99a4-ecf6bdf6bbf3",
   "metadata": {},
   "outputs": [],
   "source": [
    "X_train, X_test, y_train, y_test = train_test_split(X, Y, test_size=0.2)"
   ]
  },
  {
   "cell_type": "code",
   "execution_count": 72,
   "id": "019a2368-e498-489c-bfb6-d858c3f279fc",
   "metadata": {},
   "outputs": [
    {
     "data": {
      "text/html": [
       "<div>\n",
       "<style scoped>\n",
       "    .dataframe tbody tr th:only-of-type {\n",
       "        vertical-align: middle;\n",
       "    }\n",
       "\n",
       "    .dataframe tbody tr th {\n",
       "        vertical-align: top;\n",
       "    }\n",
       "\n",
       "    .dataframe thead th {\n",
       "        text-align: right;\n",
       "    }\n",
       "</style>\n",
       "<table border=\"1\" class=\"dataframe\">\n",
       "  <thead>\n",
       "    <tr style=\"text-align: right;\">\n",
       "      <th></th>\n",
       "      <th>x1</th>\n",
       "      <th>x2</th>\n",
       "      <th>x3</th>\n",
       "    </tr>\n",
       "  </thead>\n",
       "  <tbody>\n",
       "    <tr>\n",
       "      <th>24546</th>\n",
       "      <td>0.068271</td>\n",
       "      <td>0.317537</td>\n",
       "      <td>0.221958</td>\n",
       "    </tr>\n",
       "    <tr>\n",
       "      <th>30705</th>\n",
       "      <td>0.744797</td>\n",
       "      <td>0.587647</td>\n",
       "      <td>0.487375</td>\n",
       "    </tr>\n",
       "    <tr>\n",
       "      <th>39518</th>\n",
       "      <td>0.444316</td>\n",
       "      <td>0.189535</td>\n",
       "      <td>0.492793</td>\n",
       "    </tr>\n",
       "    <tr>\n",
       "      <th>28124</th>\n",
       "      <td>0.677598</td>\n",
       "      <td>0.636126</td>\n",
       "      <td>0.516099</td>\n",
       "    </tr>\n",
       "    <tr>\n",
       "      <th>22146</th>\n",
       "      <td>0.088286</td>\n",
       "      <td>0.756774</td>\n",
       "      <td>0.060731</td>\n",
       "    </tr>\n",
       "    <tr>\n",
       "      <th>...</th>\n",
       "      <td>...</td>\n",
       "      <td>...</td>\n",
       "      <td>...</td>\n",
       "    </tr>\n",
       "    <tr>\n",
       "      <th>33156</th>\n",
       "      <td>0.183904</td>\n",
       "      <td>0.555225</td>\n",
       "      <td>0.427645</td>\n",
       "    </tr>\n",
       "    <tr>\n",
       "      <th>31157</th>\n",
       "      <td>0.038907</td>\n",
       "      <td>0.131748</td>\n",
       "      <td>0.536349</td>\n",
       "    </tr>\n",
       "    <tr>\n",
       "      <th>4899</th>\n",
       "      <td>0.827909</td>\n",
       "      <td>0.402367</td>\n",
       "      <td>0.607472</td>\n",
       "    </tr>\n",
       "    <tr>\n",
       "      <th>29724</th>\n",
       "      <td>0.352533</td>\n",
       "      <td>0.729135</td>\n",
       "      <td>0.088169</td>\n",
       "    </tr>\n",
       "    <tr>\n",
       "      <th>6653</th>\n",
       "      <td>0.209570</td>\n",
       "      <td>0.509510</td>\n",
       "      <td>0.792923</td>\n",
       "    </tr>\n",
       "  </tbody>\n",
       "</table>\n",
       "<p>40000 rows × 3 columns</p>\n",
       "</div>"
      ],
      "text/plain": [
       "             x1        x2        x3\n",
       "24546  0.068271  0.317537  0.221958\n",
       "30705  0.744797  0.587647  0.487375\n",
       "39518  0.444316  0.189535  0.492793\n",
       "28124  0.677598  0.636126  0.516099\n",
       "22146  0.088286  0.756774  0.060731\n",
       "...         ...       ...       ...\n",
       "33156  0.183904  0.555225  0.427645\n",
       "31157  0.038907  0.131748  0.536349\n",
       "4899   0.827909  0.402367  0.607472\n",
       "29724  0.352533  0.729135  0.088169\n",
       "6653   0.209570  0.509510  0.792923\n",
       "\n",
       "[40000 rows x 3 columns]"
      ]
     },
     "execution_count": 72,
     "metadata": {},
     "output_type": "execute_result"
    }
   ],
   "source": [
    "X_train"
   ]
  },
  {
   "cell_type": "code",
   "execution_count": 73,
   "id": "bd1acd76-8dec-44a2-ab2f-953c8337ea7a",
   "metadata": {},
   "outputs": [],
   "source": [
    "model = tf.keras.models.Sequential([\n",
    "    tf.keras.layers.Dense(9, input_dim=3, activation='relu'),\n",
    "    tf.keras.layers.Dense(6, activation='relu'),\n",
    "    tf.keras.layers.Dense(1, activation='softmax')  # 3 output classes: -1, 0, 1\n",
    "])\n",
    "\n",
    "model.compile(optimizer='adam',\n",
    "              loss='categorical_crossentropy',  # Use sparse categorical crossentropy\n",
    "              metrics=['accuracy'])"
   ]
  },
  {
   "cell_type": "code",
   "execution_count": 74,
   "id": "49498400-ed29-4a32-92f1-eea8e453f6aa",
   "metadata": {},
   "outputs": [
    {
     "name": "stdout",
     "output_type": "stream",
     "text": [
      "Epoch 1/20\n",
      "\u001b[1m1250/1250\u001b[0m \u001b[32m━━━━━━━━━━━━━━━━━━━━\u001b[0m\u001b[37m\u001b[0m \u001b[1m8s\u001b[0m 4ms/step - accuracy: 0.5018 - loss: 0.0000e+00\n",
      "Epoch 2/20\n",
      "\u001b[1m1250/1250\u001b[0m \u001b[32m━━━━━━━━━━━━━━━━━━━━\u001b[0m\u001b[37m\u001b[0m \u001b[1m5s\u001b[0m 4ms/step - accuracy: 0.5027 - loss: 0.0000e+00\n",
      "Epoch 3/20\n",
      "\u001b[1m1250/1250\u001b[0m \u001b[32m━━━━━━━━━━━━━━━━━━━━\u001b[0m\u001b[37m\u001b[0m \u001b[1m5s\u001b[0m 4ms/step - accuracy: 0.4988 - loss: 0.0000e+00\n",
      "Epoch 4/20\n",
      "\u001b[1m1250/1250\u001b[0m \u001b[32m━━━━━━━━━━━━━━━━━━━━\u001b[0m\u001b[37m\u001b[0m \u001b[1m5s\u001b[0m 4ms/step - accuracy: 0.5064 - loss: 0.0000e+00\n",
      "Epoch 5/20\n",
      "\u001b[1m1250/1250\u001b[0m \u001b[32m━━━━━━━━━━━━━━━━━━━━\u001b[0m\u001b[37m\u001b[0m \u001b[1m5s\u001b[0m 4ms/step - accuracy: 0.5026 - loss: 0.0000e+00\n",
      "Epoch 6/20\n",
      "\u001b[1m1250/1250\u001b[0m \u001b[32m━━━━━━━━━━━━━━━━━━━━\u001b[0m\u001b[37m\u001b[0m \u001b[1m5s\u001b[0m 4ms/step - accuracy: 0.5072 - loss: 0.0000e+00\n",
      "Epoch 7/20\n",
      "\u001b[1m1250/1250\u001b[0m \u001b[32m━━━━━━━━━━━━━━━━━━━━\u001b[0m\u001b[37m\u001b[0m \u001b[1m5s\u001b[0m 4ms/step - accuracy: 0.5050 - loss: 0.0000e+00\n",
      "Epoch 8/20\n",
      "\u001b[1m1250/1250\u001b[0m \u001b[32m━━━━━━━━━━━━━━━━━━━━\u001b[0m\u001b[37m\u001b[0m \u001b[1m5s\u001b[0m 4ms/step - accuracy: 0.4982 - loss: 0.0000e+00\n",
      "Epoch 9/20\n",
      "\u001b[1m1250/1250\u001b[0m \u001b[32m━━━━━━━━━━━━━━━━━━━━\u001b[0m\u001b[37m\u001b[0m \u001b[1m5s\u001b[0m 4ms/step - accuracy: 0.5055 - loss: 0.0000e+00\n",
      "Epoch 10/20\n",
      "\u001b[1m1250/1250\u001b[0m \u001b[32m━━━━━━━━━━━━━━━━━━━━\u001b[0m\u001b[37m\u001b[0m \u001b[1m5s\u001b[0m 4ms/step - accuracy: 0.5011 - loss: 0.0000e+00\n",
      "Epoch 11/20\n",
      "\u001b[1m1250/1250\u001b[0m \u001b[32m━━━━━━━━━━━━━━━━━━━━\u001b[0m\u001b[37m\u001b[0m \u001b[1m5s\u001b[0m 4ms/step - accuracy: 0.5004 - loss: 0.0000e+00\n",
      "Epoch 12/20\n",
      "\u001b[1m1250/1250\u001b[0m \u001b[32m━━━━━━━━━━━━━━━━━━━━\u001b[0m\u001b[37m\u001b[0m \u001b[1m5s\u001b[0m 4ms/step - accuracy: 0.5026 - loss: 0.0000e+00\n",
      "Epoch 13/20\n",
      "\u001b[1m1250/1250\u001b[0m \u001b[32m━━━━━━━━━━━━━━━━━━━━\u001b[0m\u001b[37m\u001b[0m \u001b[1m5s\u001b[0m 4ms/step - accuracy: 0.4996 - loss: 0.0000e+00\n",
      "Epoch 14/20\n",
      "\u001b[1m1250/1250\u001b[0m \u001b[32m━━━━━━━━━━━━━━━━━━━━\u001b[0m\u001b[37m\u001b[0m \u001b[1m5s\u001b[0m 4ms/step - accuracy: 0.5003 - loss: 0.0000e+00\n",
      "Epoch 15/20\n",
      "\u001b[1m1250/1250\u001b[0m \u001b[32m━━━━━━━━━━━━━━━━━━━━\u001b[0m\u001b[37m\u001b[0m \u001b[1m5s\u001b[0m 4ms/step - accuracy: 0.5066 - loss: 0.0000e+00\n",
      "Epoch 16/20\n",
      "\u001b[1m1250/1250\u001b[0m \u001b[32m━━━━━━━━━━━━━━━━━━━━\u001b[0m\u001b[37m\u001b[0m \u001b[1m5s\u001b[0m 4ms/step - accuracy: 0.5031 - loss: 0.0000e+00\n",
      "Epoch 17/20\n",
      "\u001b[1m1250/1250\u001b[0m \u001b[32m━━━━━━━━━━━━━━━━━━━━\u001b[0m\u001b[37m\u001b[0m \u001b[1m5s\u001b[0m 4ms/step - accuracy: 0.5067 - loss: 0.0000e+00\n",
      "Epoch 18/20\n",
      "\u001b[1m1250/1250\u001b[0m \u001b[32m━━━━━━━━━━━━━━━━━━━━\u001b[0m\u001b[37m\u001b[0m \u001b[1m5s\u001b[0m 4ms/step - accuracy: 0.5011 - loss: 0.0000e+00\n",
      "Epoch 19/20\n",
      "\u001b[1m1250/1250\u001b[0m \u001b[32m━━━━━━━━━━━━━━━━━━━━\u001b[0m\u001b[37m\u001b[0m \u001b[1m5s\u001b[0m 4ms/step - accuracy: 0.5003 - loss: 0.0000e+00\n",
      "Epoch 20/20\n",
      "\u001b[1m1250/1250\u001b[0m \u001b[32m━━━━━━━━━━━━━━━━━━━━\u001b[0m\u001b[37m\u001b[0m \u001b[1m6s\u001b[0m 4ms/step - accuracy: 0.5029 - loss: 0.0000e+00\n"
     ]
    }
   ],
   "source": [
    "h1=model.fit(X_train, y_train, epochs=20)"
   ]
  },
  {
   "cell_type": "code",
   "execution_count": 75,
   "id": "6eb7c63f-0e1c-4f57-b649-1f79b769c89f",
   "metadata": {},
   "outputs": [
    {
     "name": "stdout",
     "output_type": "stream",
     "text": [
      "\u001b[1m313/313\u001b[0m \u001b[32m━━━━━━━━━━━━━━━━━━━━\u001b[0m\u001b[37m\u001b[0m \u001b[1m1s\u001b[0m 3ms/step\n"
     ]
    }
   ],
   "source": [
    "y_pred=model.predict(X_test)"
   ]
  },
  {
   "cell_type": "code",
   "execution_count": 76,
   "id": "e94ada1c-163b-4080-aace-6d7aaebfd732",
   "metadata": {},
   "outputs": [],
   "source": [
    "from sklearn.metrics import r2_score,accuracy_score"
   ]
  },
  {
   "cell_type": "code",
   "execution_count": 77,
   "id": "54023bd0-b65e-4a02-adf2-4647cc974479",
   "metadata": {},
   "outputs": [
    {
     "data": {
      "text/plain": [
       "0.4942"
      ]
     },
     "execution_count": 77,
     "metadata": {},
     "output_type": "execute_result"
    }
   ],
   "source": [
    "accuracy_score(y_pred, y_test)"
   ]
  },
  {
   "cell_type": "code",
   "execution_count": 78,
   "id": "c39aafe4-52af-4721-aadc-240ac7dd516f",
   "metadata": {},
   "outputs": [],
   "source": [
    "import matplotlib.pyplot as plt\n",
    "%matplotlib inline"
   ]
  },
  {
   "cell_type": "code",
   "execution_count": 79,
   "id": "e40dcd89-5fb4-49c5-9db7-4d346adae01b",
   "metadata": {},
   "outputs": [
    {
     "data": {
      "image/png": "[encoded data removed]",
      "text/plain": [
       "<Figure size 640x480 with 1 Axes>"
      ]
     },
     "metadata": {},
     "output_type": "display_data"
    }
   ],
   "source": [
    "metrics_df = pd.DataFrame(h1.history)\n",
    "metrics_df.plot()\n",
    "plt.show()"
   ]
  },
  {
   "cell_type": "code",
   "execution_count": null,
   "id": "0c931388-71a4-4500-b904-0b0418160380",
   "metadata": {},
   "outputs": [],
   "source": []
  },
  {
   "cell_type": "code",
   "execution_count": null,
   "id": "3fc3fef5-3201-4c90-b914-b60bb038e405",
   "metadata": {},
   "outputs": [],
   "source": []
  },
  {
   "cell_type": "code",
   "execution_count": null,
   "id": "474c9785-8a4f-4a61-8628-42b7e5f09a1d",
   "metadata": {},
   "outputs": [],
   "source": []
  }
 ],
 "metadata": {
  "kernelspec": {
   "display_name": "Python 3 (ipykernel)",
   "language": "python",
   "name": "python3"
  },
  "language_info": {
   "codemirror_mode": {
    "name": "ipython",
    "version": 3
   },
   "file_extension": ".py",
   "mimetype": "text/x-python",
   "name": "python",
   "nbconvert_exporter": "python",
   "pygments_lexer": "ipython3",
   "version": "3.12.7"
  }
 },
 "nbformat": 4,
 "nbformat_minor": 5
}
